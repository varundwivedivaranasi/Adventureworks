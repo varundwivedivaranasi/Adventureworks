{
 "cells": [
  {
   "cell_type": "markdown",
   "metadata": {
    "application/vnd.databricks.v1+cell": {
     "cellMetadata": {
      "byteLimit": 2048000,
      "rowLimit": 10000
     },
     "inputWidgets": {},
     "nuid": "25c05bd7-a9ce-4d7e-a142-295a00f2a6f3",
     "showTitle": false,
     "tableResultSettingsMap": {},
     "title": ""
    }
   },
   "source": [
    "### Data load from Bronze to Silver layer"
   ]
  },
  {
   "cell_type": "code",
   "execution_count": 0,
   "metadata": {
    "application/vnd.databricks.v1+cell": {
     "cellMetadata": {
      "byteLimit": 2048000,
      "rowLimit": 10000
     },
     "inputWidgets": {},
     "nuid": "854f46f5-bea5-4917-b31d-d97ef3577293",
     "showTitle": false,
     "tableResultSettingsMap": {},
     "title": ""
    }
   },
   "outputs": [],
   "source": [
    "from pyspark.sql.types import *\n",
    "from pyspark.sql.window import *\n",
    "from pyspark.sql.functions import *"
   ]
  },
  {
   "cell_type": "code",
   "execution_count": 0,
   "metadata": {
    "application/vnd.databricks.v1+cell": {
     "cellMetadata": {
      "byteLimit": 2048000,
      "rowLimit": 10000
     },
     "inputWidgets": {},
     "nuid": "73fd6beb-533e-4e43-beb5-d330947518f6",
     "showTitle": false,
     "tableResultSettingsMap": {},
     "title": ""
    }
   },
   "outputs": [],
   "source": [
    "df_AdventureWorks_Calendar = spark.read.format(\"csv\") \\\n",
    "    .option(\"header\", \"true\") \\\n",
    "    .option(\"inferSchema\", \"true\") \\\n",
    "    .load(\"abfss://adventureworks@rmpyru.dfs.core.windows.net/bronze/AdventureWorks_Calendar.csv\")\n",
    "\n",
    "#df_AdventureWorks_Calendar.display()"
   ]
  },
  {
   "cell_type": "code",
   "execution_count": 0,
   "metadata": {
    "application/vnd.databricks.v1+cell": {
     "cellMetadata": {
      "byteLimit": 2048000,
      "rowLimit": 10000
     },
     "inputWidgets": {},
     "nuid": "72d2d606-42b9-4b65-a4b1-6b0b872867c0",
     "showTitle": false,
     "tableResultSettingsMap": {},
     "title": ""
    }
   },
   "outputs": [],
   "source": [
    "df_AdventureWorks_Customers = spark.read.format(\"csv\") \\\n",
    "    .option(\"header\", \"true\") \\\n",
    "    .option(\"inferSchema\", \"true\") \\\n",
    "    .load(\"abfss://adventureworks@rmpyru.dfs.core.windows.net/bronze/AdventureWorks_Customers.csv\")\n",
    "\n",
    "#df_AdventureWorks_Customers.display()"
   ]
  },
  {
   "cell_type": "code",
   "execution_count": 0,
   "metadata": {
    "application/vnd.databricks.v1+cell": {
     "cellMetadata": {
      "byteLimit": 2048000,
      "rowLimit": 10000
     },
     "inputWidgets": {},
     "nuid": "02d74743-ef5f-4b62-b516-6b835cfaa468",
     "showTitle": false,
     "tableResultSettingsMap": {},
     "title": ""
    }
   },
   "outputs": [],
   "source": [
    "df_AdventureWorks_Product_Categories = spark.read.format(\"csv\") \\\n",
    "    .option(\"header\", \"true\") \\\n",
    "    .option(\"inferSchema\", \"true\") \\\n",
    "    .load(\"abfss://adventureworks@rmpyru.dfs.core.windows.net/bronze/AdventureWorks_Product_Categories.csv\")\n",
    "\n",
    "#df_AdventureWorks_Product_Categories.display()"
   ]
  },
  {
   "cell_type": "code",
   "execution_count": 0,
   "metadata": {
    "application/vnd.databricks.v1+cell": {
     "cellMetadata": {
      "byteLimit": 2048000,
      "rowLimit": 10000
     },
     "inputWidgets": {},
     "nuid": "fae1653d-f892-4f82-86cc-886ced663f12",
     "showTitle": false,
     "tableResultSettingsMap": {},
     "title": ""
    }
   },
   "outputs": [],
   "source": [
    "df_AdventureWorks_Product_Subcategories = spark.read.format(\"csv\") \\\n",
    "    .option(\"header\", \"true\") \\\n",
    "    .option(\"inferSchema\", \"true\") \\\n",
    "    .load(\"abfss://adventureworks@rmpyru.dfs.core.windows.net/bronze/AdventureWorks_Product_Subcategories.csv\")\n",
    "\n",
    "#df_AdventureWorks_Product_Subcategories.display()"
   ]
  },
  {
   "cell_type": "code",
   "execution_count": 0,
   "metadata": {
    "application/vnd.databricks.v1+cell": {
     "cellMetadata": {
      "byteLimit": 2048000,
      "rowLimit": 10000
     },
     "inputWidgets": {},
     "nuid": "be0394b4-1b96-46cb-937b-8bc241d6bc9a",
     "showTitle": false,
     "tableResultSettingsMap": {},
     "title": ""
    }
   },
   "outputs": [],
   "source": [
    "df_AdventureWorks_Products = spark.read.format(\"csv\") \\\n",
    "    .option(\"header\", \"true\") \\\n",
    "    .option(\"inferSchema\", \"true\") \\\n",
    "    .load(\"abfss://adventureworks@rmpyru.dfs.core.windows.net/bronze/AdventureWorks_Products.csv\")\n",
    "\n",
    "#df_AdventureWorks_Products.display()"
   ]
  },
  {
   "cell_type": "code",
   "execution_count": 0,
   "metadata": {
    "application/vnd.databricks.v1+cell": {
     "cellMetadata": {
      "byteLimit": 2048000,
      "rowLimit": 10000
     },
     "inputWidgets": {},
     "nuid": "334cec1b-0c2d-445d-b195-0718d58dc953",
     "showTitle": false,
     "tableResultSettingsMap": {},
     "title": ""
    }
   },
   "outputs": [],
   "source": [
    "df_AdventureWorks_Returns = spark.read.format(\"csv\") \\\n",
    "    .option(\"header\", \"true\") \\\n",
    "    .option(\"inferSchema\", \"true\") \\\n",
    "    .load(\"abfss://adventureworks@rmpyru.dfs.core.windows.net/bronze/AdventureWorks_Returns.csv\")\n",
    "\n",
    "#df_AdventureWorks_Returns.display()"
   ]
  },
  {
   "cell_type": "code",
   "execution_count": 0,
   "metadata": {
    "application/vnd.databricks.v1+cell": {
     "cellMetadata": {
      "byteLimit": 2048000,
      "rowLimit": 10000
     },
     "inputWidgets": {},
     "nuid": "e6b27f14-b06e-4b44-8cc1-7a366de83e0a",
     "showTitle": false,
     "tableResultSettingsMap": {},
     "title": ""
    }
   },
   "outputs": [],
   "source": [
    "df_AdventureWorks_Sales_2015 = spark.read.format(\"csv\") \\\n",
    "    .option(\"header\", \"true\") \\\n",
    "    .option(\"inferSchema\", \"true\") \\\n",
    "    .load(\"abfss://adventureworks@rmpyru.dfs.core.windows.net/bronze/AdventureWorks_Sales_2015.csv\")\n",
    "\n",
    "#df_AdventureWorks_Sales_2015.display()"
   ]
  },
  {
   "cell_type": "code",
   "execution_count": 0,
   "metadata": {
    "application/vnd.databricks.v1+cell": {
     "cellMetadata": {
      "byteLimit": 2048000,
      "rowLimit": 10000
     },
     "inputWidgets": {},
     "nuid": "d0375982-7e2f-4fd4-8acb-8f5230ad15f4",
     "showTitle": false,
     "tableResultSettingsMap": {},
     "title": ""
    }
   },
   "outputs": [],
   "source": [
    "df_AdventureWorks_Sales_2016 = spark.read.format(\"csv\") \\\n",
    "    .option(\"header\", \"true\") \\\n",
    "    .option(\"inferSchema\", \"true\") \\\n",
    "    .load(\"abfss://adventureworks@rmpyru.dfs.core.windows.net/bronze/AdventureWorks_Sales_2016.csv\")\n",
    "\n",
    "#df_AdventureWorks_Sales_2016.display()"
   ]
  },
  {
   "cell_type": "code",
   "execution_count": 0,
   "metadata": {
    "application/vnd.databricks.v1+cell": {
     "cellMetadata": {
      "byteLimit": 2048000,
      "rowLimit": 10000
     },
     "inputWidgets": {},
     "nuid": "acdacc2a-2090-42a5-b9d0-3f75a247891a",
     "showTitle": false,
     "tableResultSettingsMap": {},
     "title": ""
    }
   },
   "outputs": [],
   "source": [
    "df_AdventureWorks_Sales_2017 = spark.read.format(\"csv\") \\\n",
    "    .option(\"header\", \"true\") \\\n",
    "    .option(\"inferSchema\", \"true\") \\\n",
    "    .load(\"abfss://adventureworks@rmpyru.dfs.core.windows.net/bronze/AdventureWorks_Sales_2017.csv\")\n",
    "\n",
    "#df_AdventureWorks_Sales_2017.display()"
   ]
  },
  {
   "cell_type": "code",
   "execution_count": 0,
   "metadata": {
    "application/vnd.databricks.v1+cell": {
     "cellMetadata": {
      "byteLimit": 2048000,
      "rowLimit": 10000
     },
     "inputWidgets": {},
     "nuid": "e2c1ff87-23e4-4418-baad-cee420377b44",
     "showTitle": false,
     "tableResultSettingsMap": {},
     "title": ""
    }
   },
   "outputs": [],
   "source": [
    "df_AdventureWorks_Territories = spark.read.format(\"csv\") \\\n",
    "    .option(\"header\", \"true\") \\\n",
    "    .option(\"inferSchema\", \"true\") \\\n",
    "    .load(\"abfss://adventureworks@rmpyru.dfs.core.windows.net/bronze/AdventureWorks_Territories.csv\")\n",
    "\n",
    "#df_AdventureWorks_Territories.display()"
   ]
  },
  {
   "cell_type": "markdown",
   "metadata": {
    "application/vnd.databricks.v1+cell": {
     "cellMetadata": {},
     "inputWidgets": {},
     "nuid": "686accb1-cd06-4521-ace2-15049446309c",
     "showTitle": false,
     "tableResultSettingsMap": {},
     "title": ""
    }
   },
   "source": [
    "### Data loading..."
   ]
  },
  {
   "cell_type": "code",
   "execution_count": 0,
   "metadata": {
    "application/vnd.databricks.v1+cell": {
     "cellMetadata": {
      "byteLimit": 2048000,
      "rowLimit": 10000
     },
     "inputWidgets": {},
     "nuid": "1113b6bc-6808-4808-af7c-82c3547633fa",
     "showTitle": false,
     "tableResultSettingsMap": {},
     "title": ""
    }
   },
   "outputs": [],
   "source": [
    "df_ac = df_AdventureWorks_Calendar.withColumn(\"Month\", month(\"Date\"))\\\n",
    "    .withColumn(\"Year\", year(\"Date\"))\n",
    "\n",
    "df_ac.write.mode(\"overwrite\").option(\"path\", \"abfss://adventureworks@rmpyru.dfs.core.windows.net/silver/AdventureWorks_Calendar\").save()"
   ]
  },
  {
   "cell_type": "code",
   "execution_count": 0,
   "metadata": {
    "application/vnd.databricks.v1+cell": {
     "cellMetadata": {
      "byteLimit": 2048000,
      "rowLimit": 10000
     },
     "inputWidgets": {},
     "nuid": "4af8c14a-113f-4192-a7de-ce0bf4869a2a",
     "showTitle": false,
     "tableResultSettingsMap": {},
     "title": ""
    }
   },
   "outputs": [],
   "source": [
    "#df_AdventureWorks_Customers.withColumn(\"FullName\",concat(col(\"FirstName\"),lit(\" \"),col(\"LastName\"))).display()\n",
    "df_cust = df_AdventureWorks_Customers.withColumn(\"FullName\",concat_ws(\" \",col(\"FirstName\"),col(\"LastName\")))\n",
    "\n",
    "df_cust.write.mode(\"overwrite\").option(\"path\", \"abfss://adventureworks@rmpyru.dfs.core.windows.net/silver/AdventureWorks_Customers\").save()\n"
   ]
  },
  {
   "cell_type": "code",
   "execution_count": 0,
   "metadata": {
    "application/vnd.databricks.v1+cell": {
     "cellMetadata": {
      "byteLimit": 2048000,
      "rowLimit": 10000
     },
     "inputWidgets": {},
     "nuid": "92552c52-ec09-429a-b12a-f80a4eb6c3b5",
     "showTitle": false,
     "tableResultSettingsMap": {},
     "title": ""
    }
   },
   "outputs": [],
   "source": [
    "df_AdventureWorks_Product_Subcategories.write.mode(\"overwrite\").option(\"path\", \"abfss://adventureworks@rmpyru.dfs.core.windows.net/silver/AdventureWorks_Product_Subcategories\").save()"
   ]
  },
  {
   "cell_type": "code",
   "execution_count": 0,
   "metadata": {
    "application/vnd.databricks.v1+cell": {
     "cellMetadata": {
      "byteLimit": 2048000,
      "rowLimit": 10000
     },
     "inputWidgets": {},
     "nuid": "f251d585-8913-4abf-901d-10991deb5a09",
     "showTitle": false,
     "tableResultSettingsMap": {},
     "title": ""
    }
   },
   "outputs": [],
   "source": [
    "df_prod = df_AdventureWorks_Products.withColumn(\"ProductSKU\",split(col(\"ProductSKU\"),\"-\").getItem(0))\\\n",
    "    .withColumn(\"ProductName\",split(col(\"ProductName\"),\" \").getItem(0))\n",
    "    \n",
    "df_prod.write.mode(\"overwrite\").option(\"path\", \"abfss://adventureworks@rmpyru.dfs.core.windows.net/silver/AdventureWorks_Products\").save()"
   ]
  },
  {
   "cell_type": "code",
   "execution_count": 0,
   "metadata": {
    "application/vnd.databricks.v1+cell": {
     "cellMetadata": {
      "byteLimit": 2048000,
      "rowLimit": 10000
     },
     "inputWidgets": {},
     "nuid": "ca5b9dcc-0471-4932-91f0-db186855049e",
     "showTitle": false,
     "tableResultSettingsMap": {},
     "title": ""
    }
   },
   "outputs": [],
   "source": [
    "df_AdventureWorks_Returns.write.mode(\"overwrite\").option(\"path\", \"abfss://adventureworks@rmpyru.dfs.core.windows.net/silver/AdventureWorks_Returns\").save()"
   ]
  },
  {
   "cell_type": "code",
   "execution_count": 0,
   "metadata": {
    "application/vnd.databricks.v1+cell": {
     "cellMetadata": {
      "byteLimit": 2048000,
      "rowLimit": 10000
     },
     "inputWidgets": {},
     "nuid": "5c492611-3734-42de-a4bd-64a92bbdd648",
     "showTitle": false,
     "tableResultSettingsMap": {},
     "title": ""
    }
   },
   "outputs": [],
   "source": [
    "df_AdventureWorks_Territories.write.mode(\"overwrite\").option(\"path\", \"abfss://adventureworks@rmpyru.dfs.core.windows.net/silver/AdventureWorks_Territories\").save()"
   ]
  },
  {
   "cell_type": "code",
   "execution_count": 0,
   "metadata": {
    "application/vnd.databricks.v1+cell": {
     "cellMetadata": {
      "byteLimit": 2048000,
      "rowLimit": 10000
     },
     "inputWidgets": {},
     "nuid": "e173c8ec-a9ad-4ba3-8bb7-75230ace2818",
     "showTitle": false,
     "tableResultSettingsMap": {},
     "title": ""
    }
   },
   "outputs": [],
   "source": [
    "df_AdventureWorks_Product_Categories.write.mode(\"overwrite\").option(\"path\", \"abfss://adventureworks@rmpyru.dfs.core.windows.net/silver/AdventureWorks_Product_Categories\").save()"
   ]
  },
  {
   "cell_type": "code",
   "execution_count": 0,
   "metadata": {
    "application/vnd.databricks.v1+cell": {
     "cellMetadata": {
      "byteLimit": 2048000,
      "rowLimit": 10000
     },
     "inputWidgets": {},
     "nuid": "5f6545a4-702d-4a7e-ac0f-2c7ccf1180ec",
     "showTitle": false,
     "tableResultSettingsMap": {},
     "title": ""
    }
   },
   "outputs": [],
   "source": [
    "df_AdventureWorks_Sales_2015.write.mode(\"append\").option(\"path\", \"abfss://adventureworks@rmpyru.dfs.core.windows.net/silver/AdventureWorks_Sales\").save()\n",
    "df_AdventureWorks_Sales_2016.write.mode(\"append\").option(\"path\", \"abfss://adventureworks@rmpyru.dfs.core.windows.net/silver/AdventureWorks_Sales\").save()\n",
    "df_AdventureWorks_Sales_2017.write.mode(\"append\").option(\"path\", \"abfss://adventureworks@rmpyru.dfs.core.windows.net/silver/AdventureWorks_Sales\").save()"
   ]
  }
 ],
 "metadata": {
  "application/vnd.databricks.v1+notebook": {
   "computePreferences": null,
   "dashboards": [],
   "environmentMetadata": {
    "base_environment": "",
    "environment_version": "2"
   },
   "inputWidgetPreferences": null,
   "language": "python",
   "notebookMetadata": {
    "pythonIndentUnit": 4
   },
   "notebookName": "AdventureWorks_BronzeToSilver",
   "widgets": {}
  },
  "language_info": {
   "name": "python"
  }
 },
 "nbformat": 4,
 "nbformat_minor": 0
}
